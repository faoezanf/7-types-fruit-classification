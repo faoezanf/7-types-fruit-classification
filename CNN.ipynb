{
 "cells": [
  {
   "cell_type": "markdown",
   "metadata": {},
   "source": [
    "Test Data 1 : KuangDB, Test Data 2 : FIDSDB"
   ]
  },
  {
   "cell_type": "code",
   "execution_count": 1,
   "metadata": {},
   "outputs": [],
   "source": [
    "import tensorflow as tf\n",
    "from tensorflow import keras\n",
    "import numpy as np\n",
    "import matplotlib.pyplot as plt\n",
    "import cv2\n",
    "import glob\n",
    "import os\n",
    "from sklearn.metrics import accuracy_score\n",
    "from sklearn.metrics import confusion_matrix\n",
    "from sklearn.metrics import classification_report\n",
    "from tensorflow.keras.models import load_model"
   ]
  },
  {
   "cell_type": "code",
   "execution_count": 2,
   "metadata": {},
   "outputs": [],
   "source": [
    "def load_dataset(folderdataset,stat):\n",
    "    image = []\n",
    "    label = []\n",
    "\n",
    "    if stat==1:\n",
    "        for f in os.listdir(os.path.dirname(folderdataset)):\n",
    "            if f!='.DS_Store':\n",
    "                path = folderdataset+f\n",
    "                l = findLabel(f)\n",
    "                for filename in os.listdir(path):\n",
    "                    if filename !='.DS_Store':\n",
    "                        file = path+'/'+filename\n",
    "                        img = np.asarray(cv2.imread(file))\n",
    "                        img = cv2.resize(img, (128, 128), interpolation = cv2.INTER_AREA)\n",
    "                        image.append(img)\n",
    "                        if l=='apple':\n",
    "                            lab=1\n",
    "                        elif l=='banana':\n",
    "                            lab=2\n",
    "                        elif l=='lemon':\n",
    "                            lab=3\n",
    "                        elif l=='lime':\n",
    "                            lab=4\n",
    "                        elif l=='orange':\n",
    "                            lab=5\n",
    "                        elif l=='peach':\n",
    "                            lab=6\n",
    "                        elif l=='pear':\n",
    "                            lab=7\n",
    "                        label.append(lab)\n",
    "    elif stat==2:\n",
    "        for filename in os.listdir(os.path.dirname(folderdataset)):\n",
    "            if filename!='.DS_Store':\n",
    "                file = folderdataset+filename\n",
    "                img = np.asarray(cv2.imread(file))\n",
    "                img = cv2.resize(img, (128, 128), interpolation = cv2.INTER_AREA)\n",
    "                image.append(img)\n",
    "                l = findLabel(filename)\n",
    "                if l=='apple':\n",
    "                    lab=1\n",
    "                elif l=='banana':\n",
    "                    lab=2\n",
    "                elif l=='lemon':\n",
    "                    lab=3\n",
    "                elif l=='lime':\n",
    "                    lab=4\n",
    "                elif l=='orange':\n",
    "                    lab=5\n",
    "                elif l=='peach':\n",
    "                    lab=6\n",
    "                elif l=='pear':\n",
    "                    lab=7\n",
    "                label.append(lab)\n",
    "    \n",
    "    return image,label"
   ]
  },
  {
   "cell_type": "code",
   "execution_count": 3,
   "metadata": {},
   "outputs": [],
   "source": [
    "def findLabel(text):\n",
    "    label = \"\"\n",
    "    for i in range(0,len(text)):\n",
    "        if text[i] != '_':\n",
    "            label+= text[i]\n",
    "        elif text[i]=='_':\n",
    "            break\n",
    "    return label"
   ]
  },
  {
   "cell_type": "code",
   "execution_count": 4,
   "metadata": {},
   "outputs": [],
   "source": [
    "X_train,y_train = load_dataset(\"trainData_RGBD-object/\",1)\n",
    "X_test1,y_test1 = load_dataset(\"testData-1_KuangDB/\",1)\n",
    "X_test2,y_test2 = load_dataset(\"testData-2_FIDSDB/\",2)"
   ]
  },
  {
   "cell_type": "code",
   "execution_count": 5,
   "metadata": {},
   "outputs": [
    {
     "name": "stdout",
     "output_type": "stream",
     "text": [
      "Number of Train Data :  21287\n",
      "Number of Test Data 1 :  300\n",
      "Number of Test Data 2 :  232\n"
     ]
    }
   ],
   "source": [
    "print(\"Number of Train Data : \",np.shape(X_train)[0])\n",
    "print(\"Number of Test Data 1 : \",np.shape(X_test1)[0])\n",
    "print(\"Number of Test Data 2 : \",np.shape(X_test2)[0])"
   ]
  },
  {
   "cell_type": "code",
   "execution_count": 7,
   "metadata": {},
   "outputs": [],
   "source": [
    "X_train = np.asarray(X_train)\n",
    "y_train = np.asarray(y_train)\n",
    "X_test1 = np.asarray(X_test1)\n",
    "y_test1 = np.asarray(y_test1)\n",
    "X_test2 = np.asarray(X_test2)\n",
    "y_test2 = np.asarray(y_test2)"
   ]
  },
  {
   "cell_type": "code",
   "execution_count": 8,
   "metadata": {},
   "outputs": [
    {
     "name": "stdout",
     "output_type": "stream",
     "text": [
      "Model: \"sequential\"\n",
      "_________________________________________________________________\n",
      "Layer (type)                 Output Shape              Param #   \n",
      "=================================================================\n",
      "conv2d (Conv2D)              (None, 124, 124, 16)      1216      \n",
      "_________________________________________________________________\n",
      "max_pooling2d (MaxPooling2D) (None, 62, 62, 16)        0         \n",
      "_________________________________________________________________\n",
      "conv2d_1 (Conv2D)            (None, 58, 58, 32)        12832     \n",
      "_________________________________________________________________\n",
      "max_pooling2d_1 (MaxPooling2 (None, 29, 29, 32)        0         \n",
      "_________________________________________________________________\n",
      "conv2d_2 (Conv2D)            (None, 25, 25, 64)        51264     \n",
      "_________________________________________________________________\n",
      "max_pooling2d_2 (MaxPooling2 (None, 12, 12, 64)        0         \n",
      "_________________________________________________________________\n",
      "conv2d_3 (Conv2D)            (None, 8, 8, 128)         204928    \n",
      "_________________________________________________________________\n",
      "max_pooling2d_3 (MaxPooling2 (None, 4, 4, 128)         0         \n",
      "_________________________________________________________________\n",
      "flatten (Flatten)            (None, 2048)              0         \n",
      "_________________________________________________________________\n",
      "dense (Dense)                (None, 1024)              2098176   \n",
      "_________________________________________________________________\n",
      "dense_1 (Dense)              (None, 256)               262400    \n",
      "_________________________________________________________________\n",
      "dense_2 (Dense)              (None, 8)                 2056      \n",
      "=================================================================\n",
      "Total params: 2,632,872\n",
      "Trainable params: 2,632,872\n",
      "Non-trainable params: 0\n",
      "_________________________________________________________________\n"
     ]
    }
   ],
   "source": [
    "model = keras.Sequential([\n",
    "    keras.layers.Conv2D(16, (5,5), activation='relu', input_shape=(128,128,3)),\n",
    "    keras.layers.MaxPooling2D(),\n",
    "    keras.layers.Conv2D(32, (5,5), activation='relu'),\n",
    "    keras.layers.MaxPooling2D(),\n",
    "    keras.layers.Conv2D(64, (5,5), activation='relu'),\n",
    "    keras.layers.MaxPooling2D(),\n",
    "    keras.layers.Conv2D(128, (5,5), activation='relu'),\n",
    "    keras.layers.MaxPooling2D(),\n",
    "    keras.layers.Flatten(),\n",
    "    keras.layers.Dense(1024, activation='relu'),\n",
    "    keras.layers.Dense(256, activation='relu'),\n",
    "    keras.layers.Dense(8, activation='softmax')\n",
    "])\n",
    "model.summary()"
   ]
  },
  {
   "cell_type": "code",
   "execution_count": 9,
   "metadata": {},
   "outputs": [],
   "source": [
    "model.compile(loss='sparse_categorical_crossentropy', optimizer='adam', metrics=['accuracy'])"
   ]
  },
  {
   "cell_type": "code",
   "execution_count": 10,
   "metadata": {
    "scrolled": false
   },
   "outputs": [
    {
     "name": "stdout",
     "output_type": "stream",
     "text": [
      "Train on 17029 samples, validate on 4258 samples\n",
      "Epoch 1/25\n",
      "17029/17029 [==============================] - 291s 17ms/sample - loss: 0.2934 - accuracy: 0.9245 - val_loss: 0.2925 - val_accuracy: 0.9049\n",
      "Epoch 2/25\n",
      "17029/17029 [==============================] - 259s 15ms/sample - loss: 0.0621 - accuracy: 0.9821 - val_loss: 0.3383 - val_accuracy: 0.9317\n",
      "Epoch 3/25\n",
      "17029/17029 [==============================] - 257s 15ms/sample - loss: 0.1013 - accuracy: 0.9715 - val_loss: 0.7518 - val_accuracy: 0.8671\n",
      "Epoch 4/25\n",
      "17029/17029 [==============================] - 258s 15ms/sample - loss: 0.0346 - accuracy: 0.9901 - val_loss: 0.3132 - val_accuracy: 0.9338\n",
      "Epoch 5/25\n",
      "17029/17029 [==============================] - 260s 15ms/sample - loss: 0.0220 - accuracy: 0.9941 - val_loss: 0.4637 - val_accuracy: 0.9310\n",
      "Epoch 6/25\n",
      "17029/17029 [==============================] - 258s 15ms/sample - loss: 1.1645e-04 - accuracy: 1.0000 - val_loss: 0.4739 - val_accuracy: 0.9265\n",
      "Epoch 7/25\n",
      "17029/17029 [==============================] - 262s 15ms/sample - loss: 1.1606e-05 - accuracy: 1.0000 - val_loss: 0.4829 - val_accuracy: 0.9274\n",
      "Epoch 8/25\n",
      "17029/17029 [==============================] - 258s 15ms/sample - loss: 4.5816e-06 - accuracy: 1.0000 - val_loss: 0.5285 - val_accuracy: 0.9244\n",
      "Epoch 9/25\n",
      "17029/17029 [==============================] - 258s 15ms/sample - loss: 2.6902e-06 - accuracy: 1.0000 - val_loss: 0.5786 - val_accuracy: 0.9213\n",
      "Epoch 10/25\n",
      "17029/17029 [==============================] - 262s 15ms/sample - loss: 1.7246e-06 - accuracy: 1.0000 - val_loss: 0.6294 - val_accuracy: 0.9180\n",
      "Epoch 11/25\n",
      "17029/17029 [==============================] - 258s 15ms/sample - loss: 1.1567e-06 - accuracy: 1.0000 - val_loss: 0.6870 - val_accuracy: 0.9157\n",
      "Epoch 12/25\n",
      "17029/17029 [==============================] - 257s 15ms/sample - loss: 7.9786e-07 - accuracy: 1.0000 - val_loss: 0.7493 - val_accuracy: 0.9129\n",
      "Epoch 13/25\n",
      "17029/17029 [==============================] - 259s 15ms/sample - loss: 5.5695e-07 - accuracy: 1.0000 - val_loss: 0.8059 - val_accuracy: 0.9119\n",
      "Epoch 14/25\n",
      "17029/17029 [==============================] - 258s 15ms/sample - loss: 3.9215e-07 - accuracy: 1.0000 - val_loss: 0.8515 - val_accuracy: 0.9110\n",
      "Epoch 15/25\n",
      "17029/17029 [==============================] - 259s 15ms/sample - loss: 2.7802e-07 - accuracy: 1.0000 - val_loss: 0.8843 - val_accuracy: 0.9101\n",
      "Epoch 16/25\n",
      "17029/17029 [==============================] - 258s 15ms/sample - loss: 1.9324e-07 - accuracy: 1.0000 - val_loss: 0.8963 - val_accuracy: 0.9096\n",
      "Epoch 17/25\n",
      "17029/17029 [==============================] - 258s 15ms/sample - loss: 1.3394e-07 - accuracy: 1.0000 - val_loss: 0.9337 - val_accuracy: 0.9084\n",
      "Epoch 18/25\n",
      "17029/17029 [==============================] - 258s 15ms/sample - loss: 9.4385e-08 - accuracy: 1.0000 - val_loss: 0.9620 - val_accuracy: 0.9072\n",
      "Epoch 19/25\n",
      "17029/17029 [==============================] - 257s 15ms/sample - loss: 6.7119e-08 - accuracy: 1.0000 - val_loss: 0.9853 - val_accuracy: 0.9068\n",
      "Epoch 20/25\n",
      "17029/17029 [==============================] - 258s 15ms/sample - loss: 4.7784e-08 - accuracy: 1.0000 - val_loss: 1.0082 - val_accuracy: 0.9063\n",
      "Epoch 21/25\n",
      "17029/17029 [==============================] - 259s 15ms/sample - loss: 3.4351e-08 - accuracy: 1.0000 - val_loss: 1.0239 - val_accuracy: 0.9070\n",
      "Epoch 22/25\n",
      "17029/17029 [==============================] - 259s 15ms/sample - loss: 2.4613e-08 - accuracy: 1.0000 - val_loss: 1.0421 - val_accuracy: 0.9065\n",
      "Epoch 23/25\n",
      "17029/17029 [==============================] - 260s 15ms/sample - loss: 1.7837e-08 - accuracy: 1.0000 - val_loss: 1.0485 - val_accuracy: 0.9075\n",
      "Epoch 24/25\n",
      "17029/17029 [==============================] - 257s 15ms/sample - loss: 1.2965e-08 - accuracy: 1.0000 - val_loss: 1.1050 - val_accuracy: 0.9065\n",
      "Epoch 25/25\n",
      "17029/17029 [==============================] - 258s 15ms/sample - loss: 9.3175e-09 - accuracy: 1.0000 - val_loss: 1.1264 - val_accuracy: 0.9065\n"
     ]
    },
    {
     "data": {
      "text/plain": [
       "<tensorflow.python.keras.callbacks.History at 0x1a47d2f160>"
      ]
     },
     "execution_count": 10,
     "metadata": {},
     "output_type": "execute_result"
    }
   ],
   "source": [
    "model.fit(X_train, y_train, epochs=25, shuffle=True, validation_split=0.2)"
   ]
  },
  {
   "cell_type": "code",
   "execution_count": 11,
   "metadata": {},
   "outputs": [
    {
     "name": "stdout",
     "output_type": "stream",
     "text": [
      "Train Loss : 0.225307653119779\n",
      "Train Accuracy : 0.98130316\n"
     ]
    }
   ],
   "source": [
    "loss, accuracy = model.evaluate(X_train, y_train, verbose=0)\n",
    "print('Train Loss :', loss)\n",
    "print('Train Accuracy :', accuracy)"
   ]
  },
  {
   "cell_type": "code",
   "execution_count": 14,
   "metadata": {},
   "outputs": [
    {
     "name": "stdout",
     "output_type": "stream",
     "text": [
      "Test Data 1 Accuracy :  20.0\n"
     ]
    }
   ],
   "source": [
    "result1 = model.predict_classes(tf.cast(X_test1, tf.float32)) \n",
    "print(\"Test Data 1 Accuracy : \", accuracy_score(y_test1, result1) * 100)"
   ]
  },
  {
   "cell_type": "code",
   "execution_count": 15,
   "metadata": {},
   "outputs": [
    {
     "name": "stdout",
     "output_type": "stream",
     "text": [
      "              precision    recall  f1-score   support\n",
      "\n",
      "           1       0.00      0.00      0.00        50\n",
      "           2       0.09      0.10      0.10        50\n",
      "           3       0.62      0.16      0.25        50\n",
      "           4       0.00      0.00      0.00         0\n",
      "           5       0.31      0.08      0.13        50\n",
      "           6       0.50      0.18      0.26        50\n",
      "           7       0.19      0.68      0.30        50\n",
      "\n",
      "    accuracy                           0.20       300\n",
      "   macro avg       0.24      0.17      0.15       300\n",
      "weighted avg       0.28      0.20      0.17       300\n",
      "\n"
     ]
    },
    {
     "name": "stderr",
     "output_type": "stream",
     "text": [
      "/Users/faoezanf/opt/anaconda3/envs/env1/lib/python3.6/site-packages/sklearn/metrics/_classification.py:1272: UndefinedMetricWarning: Recall and F-score are ill-defined and being set to 0.0 in labels with no true samples. Use `zero_division` parameter to control this behavior.\n",
      "  _warn_prf(average, modifier, msg_start, len(result))\n"
     ]
    }
   ],
   "source": [
    "print(classification_report(y_test1, result1))"
   ]
  },
  {
   "cell_type": "code",
   "execution_count": 17,
   "metadata": {},
   "outputs": [
    {
     "name": "stdout",
     "output_type": "stream",
     "text": [
      "Test Data 2 Accuracy :  19.396551724137932\n"
     ]
    }
   ],
   "source": [
    "result2 = model.predict_classes(tf.cast(X_test2, tf.float32)) \n",
    "print(\"Test Data 2 Accuracy : \", accuracy_score(y_test2, result2) * 100)"
   ]
  },
  {
   "cell_type": "code",
   "execution_count": 18,
   "metadata": {},
   "outputs": [
    {
     "name": "stdout",
     "output_type": "stream",
     "text": [
      "              precision    recall  f1-score   support\n",
      "\n",
      "           1       0.12      0.13      0.12        38\n",
      "           2       0.30      0.24      0.27        42\n",
      "           3       0.50      0.10      0.17        29\n",
      "           4       1.00      0.14      0.24        29\n",
      "           5       0.50      0.06      0.10        35\n",
      "           6       0.00      0.00      0.00        27\n",
      "           7       0.15      0.66      0.25        32\n",
      "\n",
      "    accuracy                           0.19       232\n",
      "   macro avg       0.37      0.19      0.16       232\n",
      "weighted avg       0.36      0.19      0.17       232\n",
      "\n"
     ]
    }
   ],
   "source": [
    "print(classification_report(y_test2, result2))"
   ]
  },
  {
   "cell_type": "code",
   "execution_count": 19,
   "metadata": {},
   "outputs": [
    {
     "name": "stdout",
     "output_type": "stream",
     "text": [
      "Confusion Matriks Data Test 1:\n",
      "[[ 0 13  0  0  3  6 28]\n",
      " [ 1  5  3  2  1  0 38]\n",
      " [ 1  2  8  5  2  0 32]\n",
      " [ 0  0  0  0  0  0  0]\n",
      " [ 5  1  2  1  4  2 35]\n",
      " [ 0 25  0  1  2  9 13]\n",
      " [ 0  7  0  7  1  1 34]]\n"
     ]
    }
   ],
   "source": [
    "print(\"Confusion Matriks Data Test 1:\")\n",
    "print(confusion_matrix(y_test1, result1))"
   ]
  },
  {
   "cell_type": "code",
   "execution_count": 20,
   "metadata": {},
   "outputs": [
    {
     "name": "stdout",
     "output_type": "stream",
     "text": [
      "Confusion Matriks Data Test 2:\n",
      "[[ 5  6  0  0  1  3 23]\n",
      " [ 5 10  3  0  1  0 23]\n",
      " [ 6  0  3  0  0  0 20]\n",
      " [ 5  5  0  4  0  1 14]\n",
      " [13  0  0  0  2  0 20]\n",
      " [ 4  6  0  0  0  0 17]\n",
      " [ 5  6  0  0  0  0 21]]\n"
     ]
    }
   ],
   "source": [
    "print(\"Confusion Matriks Data Test 2:\")\n",
    "print(confusion_matrix(y_test2, result2))"
   ]
  },
  {
   "cell_type": "code",
   "execution_count": null,
   "metadata": {},
   "outputs": [],
   "source": []
  }
 ],
 "metadata": {
  "kernelspec": {
   "display_name": "Python 3",
   "language": "python",
   "name": "python3"
  },
  "language_info": {
   "codemirror_mode": {
    "name": "ipython",
    "version": 3
   },
   "file_extension": ".py",
   "mimetype": "text/x-python",
   "name": "python",
   "nbconvert_exporter": "python",
   "pygments_lexer": "ipython3",
   "version": "3.6.10"
  }
 },
 "nbformat": 4,
 "nbformat_minor": 4
}
